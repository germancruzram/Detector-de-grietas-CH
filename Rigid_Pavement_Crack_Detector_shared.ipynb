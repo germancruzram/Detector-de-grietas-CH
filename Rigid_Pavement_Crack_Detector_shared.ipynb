{
  "cells": [
    {
      "cell_type": "markdown",
      "metadata": {
        "id": "view-in-github",
        "colab_type": "text"
      },
      "source": [
        "<a href=\"https://colab.research.google.com/github/germancruzram/Detector-de-grietas-CH/blob/main/Rigid_Pavement_Crack_Detector_shared.ipynb\" target=\"_parent\"><img src=\"https://colab.research.google.com/assets/colab-badge.svg\" alt=\"Open In Colab\"/></a>"
      ]
    },
    {
      "cell_type": "markdown",
      "source": [
        "# **MODELO IA PARA DETECCION DE GRIETAS EN PAVIMENTO RIGIDO.**\n",
        "**Creado por : German Cruz R. 🇳**\n",
        "\n",
        "Mayo 2024."
      ],
      "metadata": {
        "id": "4zV9QtfrneNw"
      }
    },
    {
      "cell_type": "markdown",
      "metadata": {
        "id": "LA9VI44c_Dex"
      },
      "source": [
        "# **PASO 1. INSTALANDO LAS LIBRERIAS**"
      ]
    },
    {
      "cell_type": "code",
      "execution_count": null,
      "metadata": {
        "id": "IrOIVb4g-9LV"
      },
      "outputs": [],
      "source": [
        "%%capture\n",
        "!pip install super-gradients\n",
        "!pip install imutils\n",
        "!pip install gdown"
      ]
    },
    {
      "cell_type": "code",
      "source": [
        "# Reiniciar sesión en Google Colab\n",
        "import os\n",
        "os._exit(00)\n"
      ],
      "metadata": {
        "id": "mufgwYJGRGaY"
      },
      "execution_count": null,
      "outputs": []
    },
    {
      "cell_type": "markdown",
      "metadata": {
        "id": "8vj6ZhW5_ZiD"
      },
      "source": [
        "# **PASO 2. IMPORTANDO LOS INSTRUMENTOS**\n",
        "\n"
      ]
    },
    {
      "cell_type": "code",
      "execution_count": null,
      "metadata": {
        "id": "gPnhQ5DQ_gTu",
        "colab": {
          "base_uri": "https://localhost:8080/"
        },
        "outputId": "12d05754-c1fb-4e1c-d6af-012a46d55d8b"
      },
      "outputs": [
        {
          "output_type": "stream",
          "name": "stdout",
          "text": [
            "The console stream is logged into /root/sg_logs/console.log\n"
          ]
        },
        {
          "output_type": "stream",
          "name": "stderr",
          "text": [
            "[2024-05-15 22:06:40] INFO - crash_tips_setup.py - Crash tips is enabled. You can set your environment variable to CRASH_HANDLER=FALSE to disable it\n",
            "[2024-05-15 22:06:53] INFO - utils.py - NumExpr defaulting to 2 threads.\n"
          ]
        }
      ],
      "source": [
        "from super_gradients.training import Trainer\n",
        "from super_gradients.training import dataloaders\n",
        "from super_gradients.training.dataloaders.dataloaders import coco_detection_yolo_format_train, coco_detection_yolo_format_val\n",
        "from IPython.display import clear_output\n",
        "from super_gradients.training.losses import PPYoloELoss\n",
        "from super_gradients.training.metrics import DetectionMetrics_050\n",
        "from super_gradients.training.models.detection_models.pp_yolo_e import PPYoloEPostPredictionCallback\n",
        "from super_gradients.training import models\n",
        "import os\n",
        "import cv2\n",
        "import pandas as pd\n",
        "from PIL import Image, ExifTags\n",
        "import numpy as np"
      ]
    },
    {
      "cell_type": "markdown",
      "source": [
        "# **PASO 3. IMPORTANDO EL MODELO ENTRENADO PARA DETECCION DE GRIETAS**"
      ],
      "metadata": {
        "id": "x4XPW8VuVp-c"
      }
    },
    {
      "cell_type": "code",
      "source": [
        "%%capture\n",
        "url = 'https://drive.google.com/uc?id=1ozj7icywAbU8_qQmhuC-bqEYt_oRV7DD'\n",
        "\n",
        "# MODELO IA ENTRENADO PARA DETECTAR GRIETAS\n",
        "# CREADO POR GERMAN CRUZ R. MAYO 2024\n",
        "output = '/content/crackCH_0524.pth'\n",
        "!gdown {url} -O {output}\n",
        "\n",
        "print(\"Archivo descargado y guardado en\", output)"
      ],
      "metadata": {
        "id": "-1UcxrpIUm2G"
      },
      "execution_count": null,
      "outputs": []
    },
    {
      "cell_type": "markdown",
      "metadata": {
        "id": "ELYsCvoQANtB"
      },
      "source": [
        "# **PASO 4. DEFINICION DE LAS CLASES**"
      ]
    },
    {
      "cell_type": "code",
      "execution_count": null,
      "metadata": {
        "id": "l8caxCpbASNj"
      },
      "outputs": [],
      "source": [
        "dataset_params = {\n",
        "    'classes': ['grieta_lineal']\n",
        "\n",
        "}"
      ]
    },
    {
      "cell_type": "markdown",
      "metadata": {
        "id": "VWrhOdu7Mxdi"
      },
      "source": [
        "# **PASO 5. CARGANDO LA IA ENTRENADA**"
      ]
    },
    {
      "cell_type": "code",
      "execution_count": null,
      "metadata": {
        "id": "CJQBe5WdDYs-",
        "colab": {
          "base_uri": "https://localhost:8080/"
        },
        "outputId": "c243482b-c99e-413a-c110-961d8f5a9202"
      },
      "outputs": [
        {
          "output_type": "stream",
          "name": "stderr",
          "text": [
            "[2024-05-15 22:07:03] INFO - checkpoint_utils.py - Successfully loaded model weights from /content/crackCH_0524.pth EMA checkpoint.\n"
          ]
        }
      ],
      "source": [
        "best_model = models.get('yolo_nas_s',\n",
        "                        num_classes=len(dataset_params['classes']),\n",
        "                        checkpoint_path=\"/content/crackCH_0524.pth\")\n",
        "\n"
      ]
    },
    {
      "cell_type": "markdown",
      "source": [
        "# **PASO 6. SUBIR LAS IMAGENES A PROCESAR EN LA CARPETA FOTOGRAFIA**"
      ],
      "metadata": {
        "id": "v3Tif0nVqSCz"
      }
    },
    {
      "cell_type": "code",
      "source": [
        "import os\n",
        "from google.colab import files\n",
        "\n",
        "# Crear la carpeta \"Fotografias\"\n",
        "folder_name = '/content/Fotografias'\n",
        "os.makedirs(folder_name, exist_ok=True)\n",
        "print(f'Carpeta \"{folder_name}\" creada exitosamente')\n",
        "\n",
        "# Crear la carpeta \"Detecciones\" si no existe\n",
        "detections_folder = '/content/Detecciones'\n",
        "os.makedirs(detections_folder, exist_ok=True)\n",
        "print(f'Carpeta \"{detections_folder}\" creada exitosamente')\n"
      ],
      "metadata": {
        "id": "E-z9LBeyk21J"
      },
      "execution_count": null,
      "outputs": []
    },
    {
      "cell_type": "markdown",
      "metadata": {
        "id": "tFtxr3jfNq-T"
      },
      "source": [
        "# **PASO 7. EJECUTANDO LA DETECCIÓN**\n"
      ]
    },
    {
      "cell_type": "code",
      "source": [
        "def get_lat_lon(exif):\n",
        "    lat = lon = None\n",
        "    if 'GPSInfo' in exif:\n",
        "        gps_info = exif['GPSInfo']\n",
        "        gps_latitude = gps_info.get(2)\n",
        "        gps_latitude_ref = gps_info.get(1)\n",
        "        gps_longitude = gps_info.get(4)\n",
        "        gps_longitude_ref = gps_info.get(3)\n",
        "        if gps_latitude and gps_latitude_ref and gps_longitude and gps_longitude_ref:\n",
        "            lat = convert_to_degrees(gps_latitude)\n",
        "            if gps_latitude_ref != 'N':\n",
        "                lat = -lat\n",
        "            lon = convert_to_degrees(gps_longitude)\n",
        "            if gps_longitude_ref != 'E':\n",
        "                lon = -lon\n",
        "    return lat, lon\n",
        "\n",
        "# Función para convertir los valores de latitud/longitud a grados decimales\n",
        "def convert_to_degrees(value):\n",
        "    d = float(value[0])\n",
        "    m = float(value[1])\n",
        "    s = float(value[2])\n",
        "    return d + (m / 60.0) + (s / 3600.0)"
      ],
      "metadata": {
        "id": "9BsRPmLy870v"
      },
      "execution_count": null,
      "outputs": []
    },
    {
      "cell_type": "code",
      "source": [
        "# Inicialización de la lista para almacenar los datos del Excel\n",
        "data = []\n",
        "\n",
        "# Ruta de la carpeta de imágenes\n",
        "folder_path = '/content/Fotografias'\n",
        "detections_folder = '/content/Detecciones'\n",
        "\n",
        "\n",
        "# Procesar cada imagen en la carpeta \"Fotografias\"\n",
        "for filename in os.listdir(folder_path):\n",
        "    if filename.lower().endswith((\".jpg\", \".png\")):\n",
        "        img_path = os.path.join(folder_path, filename)\n",
        "        with Image.open(img_path) as img_pil:\n",
        "            exif_data = img_pil.info.get('exif')\n",
        "            exif = img_pil._getexif()\n",
        "            if exif:\n",
        "                exif = {ExifTags.TAGS[k]: v for k, v in exif.items() if k in ExifTags.TAGS}\n",
        "                lat, lon = get_lat_lon(exif)\n",
        "            else:\n",
        "                lat, lon = None, None\n",
        "            img = cv2.cvtColor(np.array(img_pil), cv2.COLOR_RGB2BGR)\n",
        "            outputs = best_model.predict(img)\n",
        "            detections = [{'confidence': confidence, 'bbox': bbox, 'class_id': label}\n",
        "                          for bbox, confidence, label in zip(outputs.prediction.bboxes_xyxy, outputs.prediction.confidence, outputs.prediction.labels)\n",
        "                          if confidence > 0.3]\n",
        "            for det in detections:\n",
        "                x_min, y_min, x_max, y_max = map(int, det['bbox'])\n",
        "                cv2.rectangle(img, (x_min, y_min), (x_max, y_max), (255, 0, 255), 2)\n",
        "                label = f\"{dataset_params['classes'][det['class_id']]}: {det['confidence']:.2f}\"\n",
        "                (text_width, text_height), baseline = cv2.getTextSize(label, cv2.FONT_HERSHEY_SIMPLEX, 0.5, 2)\n",
        "                cv2.rectangle(img, (x_min, y_min - text_height - 10), (x_min + text_width, y_min), (255, 0, 255), -1)\n",
        "                cv2.putText(img, label, (x_min, y_min - 5), cv2.FONT_HERSHEY_SIMPLEX, 0.5, (255, 255, 255), 2)\n",
        "            save_path = os.path.join(detections_folder, filename)\n",
        "            img_pil = Image.fromarray(cv2.cvtColor(img, cv2.COLOR_BGR2RGB))\n",
        "            if exif_data:\n",
        "                img_pil.save(save_path, exif=exif_data)\n",
        "            else:\n",
        "                img_pil.save(save_path)\n",
        "            data.append([filename, lat, lon, len(detections)])\n",
        "        print(f\"Processed {filename}\")\n",
        "\n",
        "\n",
        "# Crear el DataFrame y guardar en un archivo Excel\n",
        "df = pd.DataFrame(data, columns=['Filename', 'Latitude', 'Longitude', 'Detections'])\n",
        "excel_path = '/content/detections_info.xlsx'\n",
        "df.to_excel(excel_path, index=False)\n",
        "print(\"Proceso finalizado, las imágenes fueron procesadas y el archivo excel ha sido creado.\")\n",
        "\n",
        "# Verificar si hay un archivo CSV en la carpeta \"Fotografias\"\n",
        "csv_file = None\n",
        "for file in os.listdir(folder_path):\n",
        "    if file.lower().endswith('.csv'):\n",
        "        csv_file = os.path.join(folder_path, file)\n",
        "        break\n",
        "\n",
        "# Si se encuentra un archivo CSV, agregar la información del punto kilométrico\n",
        "if csv_file:\n",
        "    csv_data = pd.read_csv(csv_file)\n",
        "    if 'Nombre_de_archivo_de_imagen' in csv_data.columns and 'Punto_kilométrico__km_' in csv_data.columns:\n",
        "        detections_info = pd.read_excel(excel_path)\n",
        "        merged_data = pd.merge(detections_info, csv_data[['Nombre_de_archivo_de_imagen', 'Punto_kilométrico__km_']],\n",
        "                               left_on='Filename', right_on='Nombre_de_archivo_de_imagen', how='left')\n",
        "        merged_data = merged_data.drop(columns=['Nombre_de_archivo_de_imagen'])\n",
        "        merged_data = merged_data.rename(columns={'Punto_kilométrico__km_': 'PKM'})\n",
        "        merged_data.to_excel(excel_path, index=False)\n",
        "        print(f\"Información de punto kilométrico agregada al archivo Excel en {excel_path}\")\n",
        "\n",
        "print(\"Proceso completado.\")"
      ],
      "metadata": {
        "id": "6IkpVtr79D78"
      },
      "execution_count": null,
      "outputs": []
    },
    {
      "cell_type": "code",
      "source": [
        "import shutil\n",
        "# Ruta de la carpeta a comprimir\n",
        "folder_to_zip = '/content/Detecciones'\n",
        "# Ruta del archivo .zip resultante\n",
        "zip_filename = '/content/Detecciones.zip'\n",
        "# Comprimir la carpeta\n",
        "shutil.make_archive(zip_filename.replace('.zip', ''), 'zip', folder_to_zip)\n",
        "print(f'Carpeta \"{folder_to_zip}\" comprimida exitosamente como \"{zip_filename}\"')\n"
      ],
      "metadata": {
        "id": "tqqKW8WN9G1P"
      },
      "execution_count": null,
      "outputs": []
    },
    {
      "cell_type": "markdown",
      "source": [
        "# **BORRAR CONTENIDO DE LAS CARPETAS**"
      ],
      "metadata": {
        "id": "oK8M-_OR4USS"
      }
    },
    {
      "cell_type": "code",
      "source": [
        "import os\n",
        "import shutil\n",
        "\n",
        "# Función para eliminar todos los archivos en una carpeta\n",
        "def delete_files_in_folder(folder_path):\n",
        "    # Verificar si la carpeta existe\n",
        "    if os.path.exists(folder_path):\n",
        "        # Iterar sobre todos los archivos en la carpeta\n",
        "        for filename in os.listdir(folder_path):\n",
        "            file_path = os.path.join(folder_path, filename)\n",
        "            try:\n",
        "                # Eliminar archivos\n",
        "                if os.path.isfile(file_path) or os.path.islink(file_path):\n",
        "                    os.unlink(file_path)\n",
        "                # Eliminar directorios\n",
        "                elif os.path.isdir(file_path):\n",
        "                    shutil.rmtree(file_path)\n",
        "            except Exception as e:\n",
        "                print(f'No se pudo eliminar {file_path}. Razón: {e}')\n",
        "        print(f'Todos los archivos en la carpeta \"{folder_path}\" han sido eliminados.')\n",
        "    else:\n",
        "        print(f'La carpeta \"{folder_path}\" no existe.')\n",
        "\n",
        "# Rutas de las carpetas a limpiar\n",
        "detections_folder = '/content/Detecciones'\n",
        "fotografias_folder = '/content/Fotografias'\n",
        "\n",
        "# Eliminar archivos en las carpetas especificadas\n",
        "delete_files_in_folder(detections_folder)\n",
        "delete_files_in_folder(fotografias_folder)\n"
      ],
      "metadata": {
        "colab": {
          "base_uri": "https://localhost:8080/"
        },
        "id": "JVDUCTVn3CZt",
        "outputId": "5a3ee9b0-f09d-43cf-e50e-a54b57049385"
      },
      "execution_count": null,
      "outputs": [
        {
          "output_type": "stream",
          "name": "stdout",
          "text": [
            "Todos los archivos en la carpeta \"/content/Detecciones\" han sido eliminados.\n",
            "Todos los archivos en la carpeta \"/content/Fotografias\" han sido eliminados.\n"
          ]
        }
      ]
    }
  ],
  "metadata": {
    "accelerator": "GPU",
    "colab": {
      "gpuType": "T4",
      "provenance": [],
      "collapsed_sections": [
        "oK8M-_OR4USS"
      ],
      "include_colab_link": true
    },
    "kernelspec": {
      "display_name": "Python 3",
      "name": "python3"
    },
    "language_info": {
      "name": "python"
    }
  },
  "nbformat": 4,
  "nbformat_minor": 0
}